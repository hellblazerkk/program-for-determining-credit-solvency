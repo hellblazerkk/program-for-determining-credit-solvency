{
  "cells": [
    {
      "cell_type": "code",
      "execution_count": null,
      "metadata": {
        "colab": {
          "base_uri": "https://localhost:8080/"
        },
        "id": "vE_--hazq48i",
        "outputId": "435bd4ba-226f-464a-e7dc-3997dd269dfe"
      },
      "outputs": [
        {
          "output_type": "stream",
          "name": "stdout",
          "text": [
            "Матрица ошибок:\n",
            " [[66 10]\n",
            " [11 44]]\n",
            "\n",
            "Отчет о классификации:\n",
            "               precision    recall  f1-score   support\n",
            "\n",
            "           0       0.86      0.87      0.86        76\n",
            "           1       0.81      0.80      0.81        55\n",
            "\n",
            "    accuracy                           0.84       131\n",
            "   macro avg       0.84      0.83      0.84       131\n",
            "weighted avg       0.84      0.84      0.84       131\n",
            "\n",
            "Точность модели: 0.8396946564885496\n"
          ]
        }
      ],
      "source": [
        "import pandas as pd\n",
        "import numpy as np\n",
        "from sklearn.model_selection import train_test_split\n",
        "from sklearn.preprocessing import StandardScaler\n",
        "from sklearn.ensemble import RandomForestClassifier\n",
        "from sklearn.metrics import classification_report, confusion_matrix, accuracy_score\n",
        "\n",
        "url = \"https://archive.ics.uci.edu/ml/machine-learning-databases/credit-screening/crx.data\"\n",
        "column_names = ['A1', 'A2', 'A3', 'A4', 'A5', 'A6', 'A7', 'A8', 'A9', 'A10', 'A11', 'A12', 'A13', 'A14', 'A15', 'A16']\n",
        "data = pd.read_csv(url, names=column_names)\n",
        "\n",
        "# Замена пропущенных значений\n",
        "data.replace('?', np.nan, inplace=True)\n",
        "\n",
        "# Удаление строк с пропущенными значениями\n",
        "data.dropna(inplace=True)\n",
        "\n",
        "# Преобразование категориальных признаков в числовые значения\n",
        "data['A1'] = data['A1'].map({'a': 0, 'b': 1})\n",
        "data['A9'] = data['A9'].map({'t': 1, 'f': 0})\n",
        "data['A10'] = data['A10'].map({'t': 1, 'f': 0})\n",
        "data['A12'] = data['A12'].map({'t': 1, 'f': 0})\n",
        "data['A16'] = data['A16'].map({'+': 1, '-': 0})\n",
        "\n",
        "for col in ['A4', 'A5', 'A6', 'A7', 'A13']:\n",
        "    data[col] = pd.Categorical(data[col]).codes\n",
        "\n",
        "# Разделение данных на признаки (X) и целевую переменную (y)\n",
        "X = data.drop(\"A16\", axis=1)\n",
        "y = data[\"A16\"]\n",
        "\n",
        "# Разделение данных на обучающую и тестовую выборки\n",
        "X_train, X_test, y_train, y_test = train_test_split(X, y, test_size=0.2, random_state=42)\n",
        "\n",
        "# Масштабирование данных\n",
        "scaler = StandardScaler()\n",
        "X_train = scaler.fit_transform(X_train)\n",
        "X_test = scaler.transform(X_test)\n",
        "\n",
        "# Создание и обучение классификатора\n",
        "classifier = RandomForestClassifier(random_state=42)\n",
        "classifier.fit(X_train, y_train)\n",
        "\n",
        "# Предсказания на тестовой выборке\n",
        "y_pred = classifier.predict(X_test)\n",
        "\n",
        "# Оценка производительности модели\n",
        "print(\"Матрица ошибок:\\n\", confusion_matrix(y_test, y_pred))\n",
        "print(\"\\nОтчет о классификации:\\n\", classification_report(y_test, y_pred))\n",
        "print(\"Точность модели:\", accuracy_score(y_test, y_pred))\n"
      ]
    },
    {
      "cell_type": "code",
      "source": [
        "from google.colab import drive\n",
        "drive.mount('/content/drive')"
      ],
      "metadata": {
        "id": "ha1Hu4Ga2DbC"
      },
      "execution_count": null,
      "outputs": []
    },
    {
      "cell_type": "code",
      "execution_count": null,
      "metadata": {
        "colab": {
          "base_uri": "https://localhost:8080/"
        },
        "id": "p-kP4A60tXdj",
        "outputId": "7b10ee40-8ab6-440a-9ab4-2b3b5f635a0b"
      },
      "outputs": [
        {
          "output_type": "stream",
          "name": "stdout",
          "text": [
            "Логистическая регрессия:\n",
            "Матрица ошибок:\n",
            " [[62 14]\n",
            " [ 7 48]]\n",
            "\n",
            "Отчет о классификации:\n",
            "               precision    recall  f1-score   support\n",
            "\n",
            "           0       0.90      0.82      0.86        76\n",
            "           1       0.77      0.87      0.82        55\n",
            "\n",
            "    accuracy                           0.84       131\n",
            "   macro avg       0.84      0.84      0.84       131\n",
            "weighted avg       0.85      0.84      0.84       131\n",
            "\n",
            "Точность модели: 0.8396946564885496\n"
          ]
        }
      ],
      "source": [
        "import pandas as pd\n",
        "import numpy as np\n",
        "from sklearn.model_selection import train_test_split\n",
        "from sklearn.preprocessing import StandardScaler\n",
        "from sklearn.linear_model import LogisticRegression, LinearRegression\n",
        "from sklearn.metrics import classification_report, confusion_matrix, accuracy_score, mean_squared_error\n",
        "\n",
        "# ... (здесь предобработка данных, как в предыдущем ответе) ...\n",
        "\n",
        "# Разделение данных на обучающую и тестовую выборки\n",
        "X_train, X_test, y_train, y_test = train_test_split(X, y, test_size=0.2, random_state=42)\n",
        "\n",
        "# Масштабирование данных\n",
        "scaler = StandardScaler()\n",
        "X_train = scaler.fit_transform(X_train)\n",
        "X_test = scaler.transform(X_test)\n",
        "\n",
        "# Создание и обучение логистической регрессии\n",
        "logistic_classifier = LogisticRegression(random_state=42)\n",
        "logistic_classifier.fit(X_train, y_train)\n",
        "\n",
        "# Предсказания на тестовой выборке для логистической регрессии\n",
        "logistic_y_pred = logistic_classifier.predict(X_test)\n",
        "\n",
        "# Оценка производительности модели логистической регрессии\n",
        "print(\"Логистическая регрессия:\")\n",
        "print(\"Матрица ошибок:\\n\", confusion_matrix(y_test, logistic_y_pred))\n",
        "print(\"\\nОтчет о классификации:\\n\", classification_report(y_test, logistic_y_pred))\n",
        "print(\"Точность модели:\", accuracy_score(y_test, logistic_y_pred))"
      ]
    },
    {
      "cell_type": "code",
      "execution_count": null,
      "metadata": {
        "colab": {
          "base_uri": "https://localhost:8080/"
        },
        "id": "aUpbb0WntkxT",
        "outputId": "1ce6e4e1-86a4-40fa-a98f-47e89c3f8eb7"
      },
      "outputs": [
        {
          "output_type": "stream",
          "name": "stdout",
          "text": [
            "\n",
            "Линейная регрессия:\n",
            "Матрица ошибок:\n",
            " [[60 16]\n",
            " [ 4 51]]\n",
            "\n",
            "Отчет о классификации:\n",
            "               precision    recall  f1-score   support\n",
            "\n",
            "           0       0.94      0.79      0.86        76\n",
            "           1       0.76      0.93      0.84        55\n",
            "\n",
            "    accuracy                           0.85       131\n",
            "   macro avg       0.85      0.86      0.85       131\n",
            "weighted avg       0.86      0.85      0.85       131\n",
            "\n",
            "Точность модели: 0.8473282442748091\n",
            "Среднеквадратическая ошибка: 0.12746420160618932\n"
          ]
        }
      ],
      "source": [
        "# Создание и обучение линейной регрессии\n",
        "linear_regression = LinearRegression()\n",
        "linear_regression.fit(X_train, y_train)\n",
        "\n",
        "# Предсказания на тестовой выборке для линейной регрессии\n",
        "linear_y_pred = linear_regression.predict(X_test)\n",
        "\n",
        "# Округление предсказаний линейной регрессии до ближайших 0 или 1\n",
        "rounded_linear_y_pred = np.round(linear_y_pred).clip(0, 1).astype(int)\n",
        "\n",
        "# Оценка производительности модели линейной регрессии\n",
        "print(\"\\nЛинейная регрессия:\")\n",
        "print(\"Матрица ошибок:\\n\", confusion_matrix(y_test, rounded_linear_y_pred))\n",
        "print(\"\\nОтчет о классификации:\\n\", classification_report(y_test, rounded_linear_y_pred))\n",
        "print(\"Точность модели:\", accuracy_score(y_test, rounded_linear_y_pred))\n",
        "print(\"Среднеквадратическая ошибка:\", mean_squared_error(y_test, linear_y_pred))"
      ]
    }
  ],
  "metadata": {
    "colab": {
      "provenance": []
    },
    "kernelspec": {
      "display_name": "Python 3",
      "name": "python3"
    },
    "language_info": {
      "name": "python"
    }
  },
  "nbformat": 4,
  "nbformat_minor": 0
}